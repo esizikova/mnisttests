{
 "cells": [
  {
   "cell_type": "markdown",
   "metadata": {},
   "source": [
    "# Comparison of a Vanilla CNN and RNN on MNIST \n",
    "January 29, 2018"
   ]
  },
  {
   "cell_type": "markdown",
   "metadata": {},
   "source": [
    "The following code implements a recurrent CNN and compares it to a standard lenet-like CNN on the MNIST dataset.\n",
    "\n",
    "There are three sets: a small 10K train for quick testing, a larger 50K train, and a 10K validation set.\n",
    "The data is numpy arrays that can be loaded with np.load()\n",
    "train_images_10K.npy contains 16x64x3 uint8 images\n",
    "train_labels_10K.npy contains variable length strings corresponding to the label for each image\n",
    "There are at most 4 digits in this dataset."
   ]
  },
  {
   "cell_type": "code",
   "execution_count": 189,
   "metadata": {
    "collapsed": true
   },
   "outputs": [],
   "source": [
    "# import statements \n",
    "from __future__ import print_function\n",
    "import numpy as np\n",
    "import time\n",
    "from tabulate import tabulate\n",
    "\n",
    "np.random.seed(8998)  # for reproducibility\n",
    "from keras.datasets import mnist\n",
    "from keras.models import Sequential\n",
    "from keras.layers import Dense, Dropout, Activation, Flatten, Permute\n",
    "from keras.layers import Convolution2D, MaxPooling2D\n",
    "from keras.layers.wrappers import TimeDistributed\n",
    "from keras.layers.recurrent import SimpleRNN, LSTM, GRU\n",
    "from keras.utils import np_utils\n",
    "from keras import backend as K\n",
    "\n",
    "from IPython.display import SVG\n",
    "from keras.utils.visualize_util import model_to_dot\n",
    "\n",
    "import matplotlib.pyplot as plt\n",
    "%matplotlib inline"
   ]
  },
  {
   "cell_type": "markdown",
   "metadata": {},
   "source": [
    "# Read in MNIST training data\n",
    "The code below reads in the training data and reshapes it to match the input for the convolutional and recurrent networks. The MNIST dataset has 60,000 training and 10,000 testing images of 28 by 28 images of digits 0-9 (10 classes). "
   ]
  },
  {
   "cell_type": "code",
   "execution_count": 133,
   "metadata": {},
   "outputs": [
    {
     "name": "stdout",
     "output_type": "stream",
     "text": [
      "X_train_raw shape: (60000, 28, 28)\n",
      "60000 train samples\n",
      "10000 test samples\n"
     ]
    }
   ],
   "source": [
    "# read in mnist data\n",
    "nb_classes = 10; # 10 classes in mnist\n",
    "side       = 28;\n",
    "\n",
    "(X_train_raw, y_train_raw), (X_test_raw, y_test_raw) = mnist.load_data()\n",
    "\n",
    "#basic image processing\n",
    "X_train_raw = X_train_raw.astype('float32')\n",
    "X_test_raw  = X_test_raw.astype('float32')\n",
    "X_train_raw /= 255\n",
    "X_test_raw  /= 255\n",
    "\n",
    "print('X_train_raw shape:', X_train_raw.shape)\n",
    "print(X_train_raw.shape[0], 'train samples')\n",
    "print(X_test_raw.shape[0], 'test samples')"
   ]
  },
  {
   "cell_type": "code",
   "execution_count": 134,
   "metadata": {
    "collapsed": true
   },
   "outputs": [],
   "source": [
    "# prepare data for CRNN model \n",
    "def transform_for_rnn(X, Y, side):\n",
    "    examplesPer = X.shape[0]\n",
    "    maxToAdd    = 1;    \n",
    "    numToAdd    = 1;\n",
    "\n",
    "    X_train     = np.zeros((examplesPer,maxToAdd,1,side,side))\n",
    "    y_train       = []\n",
    "    for i in range(0,examplesPer):\n",
    "        #initialize a training example\n",
    "        output      = np.zeros((maxToAdd,1,side,side))\n",
    "        indices     = [i]#np.random.choice(X.shape[0],size=numToAdd)\n",
    "        example     = X[indices]\n",
    "\n",
    "        exampleY    = Y[indices]\n",
    "        output[0:numToAdd,0,:,:] = example\n",
    "        X_train[i,:,:,:,:] = output\n",
    "        y_train.append(Y[indices]);\n",
    "\n",
    "    # squeeze out the extra dimension \n",
    "    y_train     = np.array(y_train)\n",
    "    y_train     = y_train.squeeze()\n",
    "    return X_train, y_train\n",
    "\n",
    "# prepare data for cnn network\n",
    "def transform_for_cnn(X, side):\n",
    "    if K.image_dim_ordering() == 'th':           # this is the version used for testing \n",
    "        X = X.reshape(X.shape[0], 1, side, side)\n",
    "        input_shape = (1, side, side)\n",
    "    else:\n",
    "        X = X.reshape(X.shape[0], side, side, 1)\n",
    "        input_shape = (side, side, 1)\n",
    "    return X, input_shape"
   ]
  },
  {
   "cell_type": "code",
   "execution_count": 6,
   "metadata": {
    "collapsed": true
   },
   "outputs": [],
   "source": [
    "# transform mnist data to categorical variables and make it compatible with network inputs\n",
    "\n",
    "# convert class vectors to binary classification vectors (for model 1)\n",
    "Y_train_categorical = np_utils.to_categorical(y_train_raw, nb_classes)\n",
    "Y_test_categorical = np_utils.to_categorical(y_test_raw, nb_classes)\n",
    "\n",
    "# pad for RNN\n",
    "X_train_rnn, Y_train_rnn = transform_for_rnn(X_train_raw, Y_train_categorical, side)\n",
    "X_test_rnn, Y_test_rnn = transform_for_rnn(X_test_raw, Y_test_categorical, side)\n",
    "\n",
    "# transform for CNN\n",
    "X_train_cnn,input_shape = transform_for_cnn(X_train_raw, side);\n",
    "X_test_cnn,dummy = transform_for_cnn(X_test_raw, side);"
   ]
  },
  {
   "cell_type": "markdown",
   "metadata": {},
   "source": [
    "We next design and describe two network architectures that we compare in the parameter savings experiment. We compare two types of networks: CNN and RNN (referred to as CRNN/RCNN). Both types of networks have similar layer structure. However, the RNN network has an LSTM layer as the second to last layer and a fully connected layer as the last layer, while the CNN network has two fully connected top layers. \n",
    "\n",
    "To investigate any performance changes that the LSTM layer has on the network, we vary the number of outputs in the second to layer on both networks, and compare the effect on the testing accuracy."
   ]
  },
  {
   "cell_type": "markdown",
   "metadata": {},
   "source": [
    "Both networks are compared with the same network-level hyperparameters."
   ]
  },
  {
   "cell_type": "code",
   "execution_count": 150,
   "metadata": {
    "collapsed": true
   },
   "outputs": [],
   "source": [
    "# set hyperparameters for all networks that we will be comparing\n",
    "batch_size = 10;\n",
    "nb_epochs  = 1;"
   ]
  },
  {
   "cell_type": "markdown",
   "metadata": {},
   "source": [
    "## Recurrent CNN Model\n",
    "\n",
    "We next describe the architecture of the recurrent CNN network. We use the time distributed convolutional layer that processes each slice temporally: "
   ]
  },
  {
   "cell_type": "code",
   "execution_count": 160,
   "metadata": {},
   "outputs": [
    {
     "name": "stdout",
     "output_type": "stream",
     "text": [
      "____________________________________________________________________________________________________\n",
      "Layer (type)                     Output Shape          Param #     Connected to                     \n",
      "====================================================================================================\n",
      "timedistributed_291 (TimeDistribu(None, 1, 1, 25, 25)  17          timedistributed_input_98[0][0]   \n",
      "____________________________________________________________________________________________________\n",
      "activation_802 (Activation)      (None, 1, 1, 25, 25)  0           timedistributed_291[0][0]        \n",
      "____________________________________________________________________________________________________\n",
      "timedistributed_292 (TimeDistribu(None, 1, 16, 23, 23) 160         activation_802[0][0]             \n",
      "____________________________________________________________________________________________________\n",
      "activation_803 (Activation)      (None, 1, 16, 23, 23) 0           timedistributed_292[0][0]        \n",
      "____________________________________________________________________________________________________\n",
      "timedistributed_293 (TimeDistribu(None, 1, 8464)       0           activation_803[0][0]             \n",
      "____________________________________________________________________________________________________\n",
      "activation_804 (Activation)      (None, 1, 8464)       0           timedistributed_293[0][0]        \n",
      "____________________________________________________________________________________________________\n",
      "lstm_93 (LSTM)                   (None, 50)            1703000     activation_804[0][0]             \n",
      "____________________________________________________________________________________________________\n",
      "activation_805 (Activation)      (None, 50)            0           lstm_93[0][0]                    \n",
      "____________________________________________________________________________________________________\n",
      "dense_193 (Dense)                (None, 10)            510         activation_805[0][0]             \n",
      "____________________________________________________________________________________________________\n",
      "activation_806 (Activation)      (None, 10)            0           dense_193[0][0]                  \n",
      "____________________________________________________________________________________________________\n",
      "activation_807 (Activation)      (None, 10)            0           activation_806[0][0]             \n",
      "====================================================================================================\n",
      "Total params: 1703687\n",
      "____________________________________________________________________________________________________\n"
     ]
    }
   ],
   "source": [
    "# LSTM Model \n",
    "# based on https://github.com/jamesmf/mnistCRNN/blob/master/scripts/addMNISTrnn.py\n",
    "model_crnn1 = Sequential()\n",
    "model_crnn1.add(TimeDistributed(Convolution2D(1, 4, 4, border_mode='valid'), input_shape=(1,1,side,side)))\n",
    "model_crnn1.add(Activation('relu'))\n",
    "\n",
    "model_crnn1.add(TimeDistributed(Convolution2D(16, 3, 3, border_mode='valid')))\n",
    "model_crnn1.add(Activation('relu'))\n",
    "\n",
    "model_crnn1.add(TimeDistributed(Flatten()))\n",
    "model_crnn1.add(Activation('relu'))\n",
    "model_crnn1.add(LSTM(output_dim=50,return_sequences=False))\n",
    "model_crnn1.add(Activation('relu'))\n",
    "\n",
    "model_crnn1.add(Dense(10))\n",
    "model_crnn1.add(Activation('relu'))\n",
    "\n",
    "#model_crnn1.add(LSTM(output_dim=10,return_sequences=False))\n",
    "model_crnn1.add(Activation('softmax'))\n",
    "model_crnn1.compile(loss='categorical_crossentropy',\n",
    "              optimizer='adadelta',\n",
    "              metrics=['accuracy'])\n",
    "model_crnn1.summary()\n",
    "\n",
    "# get number of parameters\n",
    "nb_params_crnn1 = model_crnn1.count_params()"
   ]
  },
  {
   "cell_type": "markdown",
   "metadata": {},
   "source": [
    "We can visualize the network as a graph:"
   ]
  },
  {
   "cell_type": "code",
   "execution_count": 161,
   "metadata": {},
   "outputs": [
    {
     "data": {
      "image/svg+xml": [
       "<svg height=\"848pt\" viewBox=\"0.00 0.00 241.64 848.00\" width=\"242pt\" xmlns=\"http://www.w3.org/2000/svg\" xmlns:xlink=\"http://www.w3.org/1999/xlink\">\n",
       "<g class=\"graph\" id=\"graph0\" transform=\"scale(1 1) rotate(0) translate(4 844)\">\n",
       "<title>G</title>\n",
       "<polygon fill=\"white\" points=\"-4,4 -4,-844 237.643,-844 237.643,4 -4,4\" stroke=\"none\"/>\n",
       "<!-- 5631320912 -->\n",
       "<g class=\"node\" id=\"node1\"><title>5631320912</title>\n",
       "<polygon fill=\"none\" points=\"0.540039,-803.5 0.540039,-839.5 233.103,-839.5 233.103,-803.5 0.540039,-803.5\" stroke=\"black\"/>\n",
       "<text font-family=\"Times,serif\" font-size=\"14.00\" text-anchor=\"middle\" x=\"116.821\" y=\"-817.3\">timedistributed_input_98 (InputLayer)</text>\n",
       "</g>\n",
       "<!-- 4817738320 -->\n",
       "<g class=\"node\" id=\"node2\"><title>4817738320</title>\n",
       "<polygon fill=\"none\" points=\"0,-730.5 0,-766.5 233.643,-766.5 233.643,-730.5 0,-730.5\" stroke=\"black\"/>\n",
       "<text font-family=\"Times,serif\" font-size=\"14.00\" text-anchor=\"middle\" x=\"116.821\" y=\"-744.3\">timedistributed_291 (TimeDistributed)</text>\n",
       "</g>\n",
       "<!-- 5631320912&#45;&gt;4817738320 -->\n",
       "<g class=\"edge\" id=\"edge1\"><title>5631320912-&gt;4817738320</title>\n",
       "<path d=\"M116.821,-803.313C116.821,-795.289 116.821,-785.547 116.821,-776.569\" fill=\"none\" stroke=\"black\"/>\n",
       "<polygon fill=\"black\" points=\"120.321,-776.529 116.821,-766.529 113.321,-776.529 120.321,-776.529\" stroke=\"black\"/>\n",
       "</g>\n",
       "<!-- 5528941264 -->\n",
       "<g class=\"node\" id=\"node3\"><title>5528941264</title>\n",
       "<polygon fill=\"none\" points=\"31.2607,-657.5 31.2607,-693.5 202.382,-693.5 202.382,-657.5 31.2607,-657.5\" stroke=\"black\"/>\n",
       "<text font-family=\"Times,serif\" font-size=\"14.00\" text-anchor=\"middle\" x=\"116.821\" y=\"-671.3\">activation_802 (Activation)</text>\n",
       "</g>\n",
       "<!-- 4817738320&#45;&gt;5528941264 -->\n",
       "<g class=\"edge\" id=\"edge2\"><title>4817738320-&gt;5528941264</title>\n",
       "<path d=\"M116.821,-730.313C116.821,-722.289 116.821,-712.547 116.821,-703.569\" fill=\"none\" stroke=\"black\"/>\n",
       "<polygon fill=\"black\" points=\"120.321,-703.529 116.821,-693.529 113.321,-703.529 120.321,-703.529\" stroke=\"black\"/>\n",
       "</g>\n",
       "<!-- 5643352336 -->\n",
       "<g class=\"node\" id=\"node4\"><title>5643352336</title>\n",
       "<polygon fill=\"none\" points=\"0,-584.5 0,-620.5 233.643,-620.5 233.643,-584.5 0,-584.5\" stroke=\"black\"/>\n",
       "<text font-family=\"Times,serif\" font-size=\"14.00\" text-anchor=\"middle\" x=\"116.821\" y=\"-598.3\">timedistributed_292 (TimeDistributed)</text>\n",
       "</g>\n",
       "<!-- 5528941264&#45;&gt;5643352336 -->\n",
       "<g class=\"edge\" id=\"edge3\"><title>5528941264-&gt;5643352336</title>\n",
       "<path d=\"M116.821,-657.313C116.821,-649.289 116.821,-639.547 116.821,-630.569\" fill=\"none\" stroke=\"black\"/>\n",
       "<polygon fill=\"black\" points=\"120.321,-630.529 116.821,-620.529 113.321,-630.529 120.321,-630.529\" stroke=\"black\"/>\n",
       "</g>\n",
       "<!-- 5643352528 -->\n",
       "<g class=\"node\" id=\"node5\"><title>5643352528</title>\n",
       "<polygon fill=\"none\" points=\"31.2607,-511.5 31.2607,-547.5 202.382,-547.5 202.382,-511.5 31.2607,-511.5\" stroke=\"black\"/>\n",
       "<text font-family=\"Times,serif\" font-size=\"14.00\" text-anchor=\"middle\" x=\"116.821\" y=\"-525.3\">activation_803 (Activation)</text>\n",
       "</g>\n",
       "<!-- 5643352336&#45;&gt;5643352528 -->\n",
       "<g class=\"edge\" id=\"edge4\"><title>5643352336-&gt;5643352528</title>\n",
       "<path d=\"M116.821,-584.313C116.821,-576.289 116.821,-566.547 116.821,-557.569\" fill=\"none\" stroke=\"black\"/>\n",
       "<polygon fill=\"black\" points=\"120.321,-557.529 116.821,-547.529 113.321,-557.529 120.321,-557.529\" stroke=\"black\"/>\n",
       "</g>\n",
       "<!-- 5646811728 -->\n",
       "<g class=\"node\" id=\"node6\"><title>5646811728</title>\n",
       "<polygon fill=\"none\" points=\"0,-438.5 0,-474.5 233.643,-474.5 233.643,-438.5 0,-438.5\" stroke=\"black\"/>\n",
       "<text font-family=\"Times,serif\" font-size=\"14.00\" text-anchor=\"middle\" x=\"116.821\" y=\"-452.3\">timedistributed_293 (TimeDistributed)</text>\n",
       "</g>\n",
       "<!-- 5643352528&#45;&gt;5646811728 -->\n",
       "<g class=\"edge\" id=\"edge5\"><title>5643352528-&gt;5646811728</title>\n",
       "<path d=\"M116.821,-511.313C116.821,-503.289 116.821,-493.547 116.821,-484.569\" fill=\"none\" stroke=\"black\"/>\n",
       "<polygon fill=\"black\" points=\"120.321,-484.529 116.821,-474.529 113.321,-484.529 120.321,-484.529\" stroke=\"black\"/>\n",
       "</g>\n",
       "<!-- 5646813648 -->\n",
       "<g class=\"node\" id=\"node7\"><title>5646813648</title>\n",
       "<polygon fill=\"none\" points=\"31.2607,-365.5 31.2607,-401.5 202.382,-401.5 202.382,-365.5 31.2607,-365.5\" stroke=\"black\"/>\n",
       "<text font-family=\"Times,serif\" font-size=\"14.00\" text-anchor=\"middle\" x=\"116.821\" y=\"-379.3\">activation_804 (Activation)</text>\n",
       "</g>\n",
       "<!-- 5646811728&#45;&gt;5646813648 -->\n",
       "<g class=\"edge\" id=\"edge6\"><title>5646811728-&gt;5646813648</title>\n",
       "<path d=\"M116.821,-438.313C116.821,-430.289 116.821,-420.547 116.821,-411.569\" fill=\"none\" stroke=\"black\"/>\n",
       "<polygon fill=\"black\" points=\"120.321,-411.529 116.821,-401.529 113.321,-411.529 120.321,-411.529\" stroke=\"black\"/>\n",
       "</g>\n",
       "<!-- 5648649808 -->\n",
       "<g class=\"node\" id=\"node8\"><title>5648649808</title>\n",
       "<polygon fill=\"none\" points=\"61.1816,-292.5 61.1816,-328.5 172.461,-328.5 172.461,-292.5 61.1816,-292.5\" stroke=\"black\"/>\n",
       "<text font-family=\"Times,serif\" font-size=\"14.00\" text-anchor=\"middle\" x=\"116.821\" y=\"-306.3\">lstm_93 (LSTM)</text>\n",
       "</g>\n",
       "<!-- 5646813648&#45;&gt;5648649808 -->\n",
       "<g class=\"edge\" id=\"edge7\"><title>5646813648-&gt;5648649808</title>\n",
       "<path d=\"M116.821,-365.313C116.821,-357.289 116.821,-347.547 116.821,-338.569\" fill=\"none\" stroke=\"black\"/>\n",
       "<polygon fill=\"black\" points=\"120.321,-338.529 116.821,-328.529 113.321,-338.529 120.321,-338.529\" stroke=\"black\"/>\n",
       "</g>\n",
       "<!-- 5647160848 -->\n",
       "<g class=\"node\" id=\"node9\"><title>5647160848</title>\n",
       "<polygon fill=\"none\" points=\"31.2607,-219.5 31.2607,-255.5 202.382,-255.5 202.382,-219.5 31.2607,-219.5\" stroke=\"black\"/>\n",
       "<text font-family=\"Times,serif\" font-size=\"14.00\" text-anchor=\"middle\" x=\"116.821\" y=\"-233.3\">activation_805 (Activation)</text>\n",
       "</g>\n",
       "<!-- 5648649808&#45;&gt;5647160848 -->\n",
       "<g class=\"edge\" id=\"edge8\"><title>5648649808-&gt;5647160848</title>\n",
       "<path d=\"M116.821,-292.313C116.821,-284.289 116.821,-274.547 116.821,-265.569\" fill=\"none\" stroke=\"black\"/>\n",
       "<polygon fill=\"black\" points=\"120.321,-265.529 116.821,-255.529 113.321,-265.529 120.321,-265.529\" stroke=\"black\"/>\n",
       "</g>\n",
       "<!-- 4512802128 -->\n",
       "<g class=\"node\" id=\"node10\"><title>4512802128</title>\n",
       "<polygon fill=\"none\" points=\"54.978,-146.5 54.978,-182.5 178.665,-182.5 178.665,-146.5 54.978,-146.5\" stroke=\"black\"/>\n",
       "<text font-family=\"Times,serif\" font-size=\"14.00\" text-anchor=\"middle\" x=\"116.821\" y=\"-160.3\">dense_193 (Dense)</text>\n",
       "</g>\n",
       "<!-- 5647160848&#45;&gt;4512802128 -->\n",
       "<g class=\"edge\" id=\"edge9\"><title>5647160848-&gt;4512802128</title>\n",
       "<path d=\"M116.821,-219.313C116.821,-211.289 116.821,-201.547 116.821,-192.569\" fill=\"none\" stroke=\"black\"/>\n",
       "<polygon fill=\"black\" points=\"120.321,-192.529 116.821,-182.529 113.321,-192.529 120.321,-192.529\" stroke=\"black\"/>\n",
       "</g>\n",
       "<!-- 4512875792 -->\n",
       "<g class=\"node\" id=\"node11\"><title>4512875792</title>\n",
       "<polygon fill=\"none\" points=\"31.2607,-73.5 31.2607,-109.5 202.382,-109.5 202.382,-73.5 31.2607,-73.5\" stroke=\"black\"/>\n",
       "<text font-family=\"Times,serif\" font-size=\"14.00\" text-anchor=\"middle\" x=\"116.821\" y=\"-87.3\">activation_806 (Activation)</text>\n",
       "</g>\n",
       "<!-- 4512802128&#45;&gt;4512875792 -->\n",
       "<g class=\"edge\" id=\"edge10\"><title>4512802128-&gt;4512875792</title>\n",
       "<path d=\"M116.821,-146.313C116.821,-138.289 116.821,-128.547 116.821,-119.569\" fill=\"none\" stroke=\"black\"/>\n",
       "<polygon fill=\"black\" points=\"120.321,-119.529 116.821,-109.529 113.321,-119.529 120.321,-119.529\" stroke=\"black\"/>\n",
       "</g>\n",
       "<!-- 4512878416 -->\n",
       "<g class=\"node\" id=\"node12\"><title>4512878416</title>\n",
       "<polygon fill=\"none\" points=\"31.2607,-0.5 31.2607,-36.5 202.382,-36.5 202.382,-0.5 31.2607,-0.5\" stroke=\"black\"/>\n",
       "<text font-family=\"Times,serif\" font-size=\"14.00\" text-anchor=\"middle\" x=\"116.821\" y=\"-14.3\">activation_807 (Activation)</text>\n",
       "</g>\n",
       "<!-- 4512875792&#45;&gt;4512878416 -->\n",
       "<g class=\"edge\" id=\"edge11\"><title>4512875792-&gt;4512878416</title>\n",
       "<path d=\"M116.821,-73.3129C116.821,-65.2895 116.821,-55.5475 116.821,-46.5691\" fill=\"none\" stroke=\"black\"/>\n",
       "<polygon fill=\"black\" points=\"120.321,-46.5288 116.821,-36.5288 113.321,-46.5289 120.321,-46.5288\" stroke=\"black\"/>\n",
       "</g>\n",
       "</g>\n",
       "</svg>"
      ],
      "text/plain": [
       "<IPython.core.display.SVG object>"
      ]
     },
     "execution_count": 161,
     "metadata": {},
     "output_type": "execute_result"
    }
   ],
   "source": [
    "# visualize recurrent model as a graph\n",
    "SVG(model_to_dot(model_crnn1).create(prog='dot', format='svg'))"
   ]
  },
  {
   "cell_type": "markdown",
   "metadata": {},
   "source": [
    "We can also train the model as follows:"
   ]
  },
  {
   "cell_type": "code",
   "execution_count": 154,
   "metadata": {},
   "outputs": [
    {
     "name": "stdout",
     "output_type": "stream",
     "text": [
      "Train on 60000 samples, validate on 10000 samples\n",
      "Epoch 1/1\n",
      "60000/60000 [==============================] - 312s - loss: 0.3407 - acc: 0.9177 - val_loss: 0.1827 - val_acc: 0.9517\n"
     ]
    }
   ],
   "source": [
    "# train LSTM recurrent model \n",
    "history_crnn1 = model_crnn1.fit(X_train_rnn, Y_train_rnn, batch_size=batch_size, nb_epoch=nb_epochs,\n",
    "          verbose=1, validation_data=(X_test_rnn, Y_test_rnn))"
   ]
  },
  {
   "cell_type": "markdown",
   "metadata": {},
   "source": [
    "## CNN Model\n",
    "\n",
    "The plain CNN model has the same number of parameters in the convolutional layers as the recurrent model, but contains a fully connected layer instead of the LSTM recurrent layer, and thus has a different total number of parameters to learn:"
   ]
  },
  {
   "cell_type": "code",
   "execution_count": 162,
   "metadata": {
    "scrolled": true
   },
   "outputs": [
    {
     "name": "stdout",
     "output_type": "stream",
     "text": [
      "____________________________________________________________________________________________________\n",
      "Layer (type)                     Output Shape          Param #     Connected to                     \n",
      "====================================================================================================\n",
      "convolution2d_304 (Convolution2D)(None, 1, 25, 25)     17          convolution2d_input_52[0][0]     \n",
      "____________________________________________________________________________________________________\n",
      "activation_808 (Activation)      (None, 1, 25, 25)     0           convolution2d_304[0][0]          \n",
      "____________________________________________________________________________________________________\n",
      "convolution2d_305 (Convolution2D)(None, 16, 23, 23)    160         activation_808[0][0]             \n",
      "____________________________________________________________________________________________________\n",
      "activation_809 (Activation)      (None, 16, 23, 23)    0           convolution2d_305[0][0]          \n",
      "____________________________________________________________________________________________________\n",
      "flatten_148 (Flatten)            (None, 8464)          0           activation_809[0][0]             \n",
      "____________________________________________________________________________________________________\n",
      "dense_194 (Dense)                (None, 50)            423250      flatten_148[0][0]                \n",
      "____________________________________________________________________________________________________\n",
      "activation_810 (Activation)      (None, 50)            0           dense_194[0][0]                  \n",
      "____________________________________________________________________________________________________\n",
      "dense_195 (Dense)                (None, 10)            510         activation_810[0][0]             \n",
      "____________________________________________________________________________________________________\n",
      "activation_811 (Activation)      (None, 10)            0           dense_195[0][0]                  \n",
      "____________________________________________________________________________________________________\n",
      "activation_812 (Activation)      (None, 10)            0           activation_811[0][0]             \n",
      "====================================================================================================\n",
      "Total params: 423937\n",
      "____________________________________________________________________________________________________\n"
     ]
    }
   ],
   "source": [
    "# based on https://github.com/fchollet/keras/blob/master/examples/mnist_cnn.py   \n",
    "model_cnn = Sequential()\n",
    "model_cnn.add(Convolution2D(1, 4, 4,\n",
    "                        border_mode='valid',\n",
    "                        input_shape=(1,side,side)))\n",
    "model_cnn.add(Activation('relu'))\n",
    "\n",
    "model_cnn.add(Convolution2D(16, 3,3))\n",
    "model_cnn.add(Activation('relu'))\n",
    "\n",
    "model_cnn.add(Flatten())\n",
    "#model_cnn.add(Activation('relu'))\n",
    "\n",
    "model_cnn.add(Dense(50))\n",
    "model_cnn.add(Activation('relu'))\n",
    "\n",
    "\n",
    "model_cnn.add(Dense(10))\n",
    "model_cnn.add(Activation('relu'))\n",
    "\n",
    "model_cnn.add(Activation('softmax'))\n",
    "\n",
    "model_cnn.compile(loss='categorical_crossentropy',\n",
    "              optimizer='adadelta',\n",
    "              metrics=['accuracy'])\n",
    "model_cnn.summary()\n",
    "\n",
    "# get number of parameters\n",
    "nb_params_cnn = model_cnn.count_params()"
   ]
  },
  {
   "cell_type": "markdown",
   "metadata": {},
   "source": [
    "We can visualize the network as a graph:"
   ]
  },
  {
   "cell_type": "code",
   "execution_count": 163,
   "metadata": {},
   "outputs": [
    {
     "data": {
      "image/svg+xml": [
       "<svg height=\"775pt\" viewBox=\"0.00 0.00 236.68 775.00\" width=\"237pt\" xmlns=\"http://www.w3.org/2000/svg\" xmlns:xlink=\"http://www.w3.org/1999/xlink\">\n",
       "<g class=\"graph\" id=\"graph0\" transform=\"scale(1 1) rotate(0) translate(4 771)\">\n",
       "<title>G</title>\n",
       "<polygon fill=\"white\" points=\"-4,4 -4,-771 232.68,-771 232.68,4 -4,4\" stroke=\"none\"/>\n",
       "<!-- 4494315600 -->\n",
       "<g class=\"node\" id=\"node1\"><title>4494315600</title>\n",
       "<polygon fill=\"none\" points=\"0,-730.5 0,-766.5 228.68,-766.5 228.68,-730.5 0,-730.5\" stroke=\"black\"/>\n",
       "<text font-family=\"Times,serif\" font-size=\"14.00\" text-anchor=\"middle\" x=\"114.34\" y=\"-744.3\">convolution2d_input_52 (InputLayer)</text>\n",
       "</g>\n",
       "<!-- 4494315792 -->\n",
       "<g class=\"node\" id=\"node2\"><title>4494315792</title>\n",
       "<polygon fill=\"none\" points=\"1.92773,-657.5 1.92773,-693.5 226.752,-693.5 226.752,-657.5 1.92773,-657.5\" stroke=\"black\"/>\n",
       "<text font-family=\"Times,serif\" font-size=\"14.00\" text-anchor=\"middle\" x=\"114.34\" y=\"-671.3\">convolution2d_304 (Convolution2D)</text>\n",
       "</g>\n",
       "<!-- 4494315600&#45;&gt;4494315792 -->\n",
       "<g class=\"edge\" id=\"edge1\"><title>4494315600-&gt;4494315792</title>\n",
       "<path d=\"M114.34,-730.313C114.34,-722.289 114.34,-712.547 114.34,-703.569\" fill=\"none\" stroke=\"black\"/>\n",
       "<polygon fill=\"black\" points=\"117.84,-703.529 114.34,-693.529 110.84,-703.529 117.84,-703.529\" stroke=\"black\"/>\n",
       "</g>\n",
       "<!-- 4494318096 -->\n",
       "<g class=\"node\" id=\"node3\"><title>4494318096</title>\n",
       "<polygon fill=\"none\" points=\"28.7793,-584.5 28.7793,-620.5 199.9,-620.5 199.9,-584.5 28.7793,-584.5\" stroke=\"black\"/>\n",
       "<text font-family=\"Times,serif\" font-size=\"14.00\" text-anchor=\"middle\" x=\"114.34\" y=\"-598.3\">activation_808 (Activation)</text>\n",
       "</g>\n",
       "<!-- 4494315792&#45;&gt;4494318096 -->\n",
       "<g class=\"edge\" id=\"edge2\"><title>4494315792-&gt;4494318096</title>\n",
       "<path d=\"M114.34,-657.313C114.34,-649.289 114.34,-639.547 114.34,-630.569\" fill=\"none\" stroke=\"black\"/>\n",
       "<polygon fill=\"black\" points=\"117.84,-630.529 114.34,-620.529 110.84,-630.529 117.84,-630.529\" stroke=\"black\"/>\n",
       "</g>\n",
       "<!-- 4494267472 -->\n",
       "<g class=\"node\" id=\"node4\"><title>4494267472</title>\n",
       "<polygon fill=\"none\" points=\"1.92773,-511.5 1.92773,-547.5 226.752,-547.5 226.752,-511.5 1.92773,-511.5\" stroke=\"black\"/>\n",
       "<text font-family=\"Times,serif\" font-size=\"14.00\" text-anchor=\"middle\" x=\"114.34\" y=\"-525.3\">convolution2d_305 (Convolution2D)</text>\n",
       "</g>\n",
       "<!-- 4494318096&#45;&gt;4494267472 -->\n",
       "<g class=\"edge\" id=\"edge3\"><title>4494318096-&gt;4494267472</title>\n",
       "<path d=\"M114.34,-584.313C114.34,-576.289 114.34,-566.547 114.34,-557.569\" fill=\"none\" stroke=\"black\"/>\n",
       "<polygon fill=\"black\" points=\"117.84,-557.529 114.34,-547.529 110.84,-557.529 117.84,-557.529\" stroke=\"black\"/>\n",
       "</g>\n",
       "<!-- 4494267152 -->\n",
       "<g class=\"node\" id=\"node5\"><title>4494267152</title>\n",
       "<polygon fill=\"none\" points=\"28.7793,-438.5 28.7793,-474.5 199.9,-474.5 199.9,-438.5 28.7793,-438.5\" stroke=\"black\"/>\n",
       "<text font-family=\"Times,serif\" font-size=\"14.00\" text-anchor=\"middle\" x=\"114.34\" y=\"-452.3\">activation_809 (Activation)</text>\n",
       "</g>\n",
       "<!-- 4494267472&#45;&gt;4494267152 -->\n",
       "<g class=\"edge\" id=\"edge4\"><title>4494267472-&gt;4494267152</title>\n",
       "<path d=\"M114.34,-511.313C114.34,-503.289 114.34,-493.547 114.34,-484.569\" fill=\"none\" stroke=\"black\"/>\n",
       "<polygon fill=\"black\" points=\"117.84,-484.529 114.34,-474.529 110.84,-484.529 117.84,-484.529\" stroke=\"black\"/>\n",
       "</g>\n",
       "<!-- 4767912976 -->\n",
       "<g class=\"node\" id=\"node6\"><title>4767912976</title>\n",
       "<polygon fill=\"none\" points=\"48.9897,-365.5 48.9897,-401.5 179.69,-401.5 179.69,-365.5 48.9897,-365.5\" stroke=\"black\"/>\n",
       "<text font-family=\"Times,serif\" font-size=\"14.00\" text-anchor=\"middle\" x=\"114.34\" y=\"-379.3\">flatten_148 (Flatten)</text>\n",
       "</g>\n",
       "<!-- 4494267152&#45;&gt;4767912976 -->\n",
       "<g class=\"edge\" id=\"edge5\"><title>4494267152-&gt;4767912976</title>\n",
       "<path d=\"M114.34,-438.313C114.34,-430.289 114.34,-420.547 114.34,-411.569\" fill=\"none\" stroke=\"black\"/>\n",
       "<polygon fill=\"black\" points=\"117.84,-411.529 114.34,-401.529 110.84,-411.529 117.84,-411.529\" stroke=\"black\"/>\n",
       "</g>\n",
       "<!-- 4780189584 -->\n",
       "<g class=\"node\" id=\"node7\"><title>4780189584</title>\n",
       "<polygon fill=\"none\" points=\"52.4966,-292.5 52.4966,-328.5 176.183,-328.5 176.183,-292.5 52.4966,-292.5\" stroke=\"black\"/>\n",
       "<text font-family=\"Times,serif\" font-size=\"14.00\" text-anchor=\"middle\" x=\"114.34\" y=\"-306.3\">dense_194 (Dense)</text>\n",
       "</g>\n",
       "<!-- 4767912976&#45;&gt;4780189584 -->\n",
       "<g class=\"edge\" id=\"edge6\"><title>4767912976-&gt;4780189584</title>\n",
       "<path d=\"M114.34,-365.313C114.34,-357.289 114.34,-347.547 114.34,-338.569\" fill=\"none\" stroke=\"black\"/>\n",
       "<polygon fill=\"black\" points=\"117.84,-338.529 114.34,-328.529 110.84,-338.529 117.84,-338.529\" stroke=\"black\"/>\n",
       "</g>\n",
       "<!-- 4804130832 -->\n",
       "<g class=\"node\" id=\"node8\"><title>4804130832</title>\n",
       "<polygon fill=\"none\" points=\"28.7793,-219.5 28.7793,-255.5 199.9,-255.5 199.9,-219.5 28.7793,-219.5\" stroke=\"black\"/>\n",
       "<text font-family=\"Times,serif\" font-size=\"14.00\" text-anchor=\"middle\" x=\"114.34\" y=\"-233.3\">activation_810 (Activation)</text>\n",
       "</g>\n",
       "<!-- 4780189584&#45;&gt;4804130832 -->\n",
       "<g class=\"edge\" id=\"edge7\"><title>4780189584-&gt;4804130832</title>\n",
       "<path d=\"M114.34,-292.313C114.34,-284.289 114.34,-274.547 114.34,-265.569\" fill=\"none\" stroke=\"black\"/>\n",
       "<polygon fill=\"black\" points=\"117.84,-265.529 114.34,-255.529 110.84,-265.529 117.84,-265.529\" stroke=\"black\"/>\n",
       "</g>\n",
       "<!-- 4804131344 -->\n",
       "<g class=\"node\" id=\"node9\"><title>4804131344</title>\n",
       "<polygon fill=\"none\" points=\"52.4966,-146.5 52.4966,-182.5 176.183,-182.5 176.183,-146.5 52.4966,-146.5\" stroke=\"black\"/>\n",
       "<text font-family=\"Times,serif\" font-size=\"14.00\" text-anchor=\"middle\" x=\"114.34\" y=\"-160.3\">dense_195 (Dense)</text>\n",
       "</g>\n",
       "<!-- 4804130832&#45;&gt;4804131344 -->\n",
       "<g class=\"edge\" id=\"edge8\"><title>4804130832-&gt;4804131344</title>\n",
       "<path d=\"M114.34,-219.313C114.34,-211.289 114.34,-201.547 114.34,-192.569\" fill=\"none\" stroke=\"black\"/>\n",
       "<polygon fill=\"black\" points=\"117.84,-192.529 114.34,-182.529 110.84,-192.529 117.84,-192.529\" stroke=\"black\"/>\n",
       "</g>\n",
       "<!-- 4804126544 -->\n",
       "<g class=\"node\" id=\"node10\"><title>4804126544</title>\n",
       "<polygon fill=\"none\" points=\"29.0356,-73.5 29.0356,-109.5 199.644,-109.5 199.644,-73.5 29.0356,-73.5\" stroke=\"black\"/>\n",
       "<text font-family=\"Times,serif\" font-size=\"14.00\" text-anchor=\"middle\" x=\"114.34\" y=\"-87.3\">activation_811 (Activation)</text>\n",
       "</g>\n",
       "<!-- 4804131344&#45;&gt;4804126544 -->\n",
       "<g class=\"edge\" id=\"edge9\"><title>4804131344-&gt;4804126544</title>\n",
       "<path d=\"M114.34,-146.313C114.34,-138.289 114.34,-128.547 114.34,-119.569\" fill=\"none\" stroke=\"black\"/>\n",
       "<polygon fill=\"black\" points=\"117.84,-119.529 114.34,-109.529 110.84,-119.529 117.84,-119.529\" stroke=\"black\"/>\n",
       "</g>\n",
       "<!-- 4804175440 -->\n",
       "<g class=\"node\" id=\"node11\"><title>4804175440</title>\n",
       "<polygon fill=\"none\" points=\"28.7793,-0.5 28.7793,-36.5 199.9,-36.5 199.9,-0.5 28.7793,-0.5\" stroke=\"black\"/>\n",
       "<text font-family=\"Times,serif\" font-size=\"14.00\" text-anchor=\"middle\" x=\"114.34\" y=\"-14.3\">activation_812 (Activation)</text>\n",
       "</g>\n",
       "<!-- 4804126544&#45;&gt;4804175440 -->\n",
       "<g class=\"edge\" id=\"edge10\"><title>4804126544-&gt;4804175440</title>\n",
       "<path d=\"M114.34,-73.3129C114.34,-65.2895 114.34,-55.5475 114.34,-46.5691\" fill=\"none\" stroke=\"black\"/>\n",
       "<polygon fill=\"black\" points=\"117.84,-46.5288 114.34,-36.5288 110.84,-46.5289 117.84,-46.5288\" stroke=\"black\"/>\n",
       "</g>\n",
       "</g>\n",
       "</svg>"
      ],
      "text/plain": [
       "<IPython.core.display.SVG object>"
      ]
     },
     "execution_count": 163,
     "metadata": {},
     "output_type": "execute_result"
    }
   ],
   "source": [
    "# visualize recurrent model as a graph\n",
    "SVG(model_to_dot(model_cnn).create(prog='dot', format='svg'))"
   ]
  },
  {
   "cell_type": "markdown",
   "metadata": {},
   "source": [
    "And we can train the network as follows:"
   ]
  },
  {
   "cell_type": "code",
   "execution_count": 164,
   "metadata": {},
   "outputs": [
    {
     "name": "stdout",
     "output_type": "stream",
     "text": [
      "Train on 60000 samples, validate on 10000 samples\n",
      "Epoch 1/1\n",
      "60000/60000 [==============================] - 66s - loss: 0.2590 - acc: 0.9233 - val_loss: 0.1482 - val_acc: 0.9551\n"
     ]
    }
   ],
   "source": [
    "# train CNN model \n",
    "history_cnn = model_cnn.fit(X_train_cnn, Y_train_categorical, batch_size=batch_size, nb_epoch=nb_epochs,\n",
    "          verbose=1, validation_data=(X_test_cnn, Y_test_categorical))"
   ]
  },
  {
   "cell_type": "markdown",
   "metadata": {},
   "source": [
    "## Parameter Comparisons\n",
    "\n",
    "We next evaluate the effect of the quantity of parameters on the model accuracy. We first generate the given models with diffent numbers of neurons in the second to last layers of both network types:"
   ]
  },
  {
   "cell_type": "code",
   "execution_count": 165,
   "metadata": {},
   "outputs": [
    {
     "name": "stdout",
     "output_type": "stream",
     "text": [
      "10 339287 84937\n",
      "50 1703687 423937\n",
      "100 3427187 847687\n",
      "150 5170687 1271437\n",
      "200 6934187 1695187\n",
      "250 8717687 2118937\n",
      "300 10521187 2542687\n"
     ]
    }
   ],
   "source": [
    "# get validation accuracy and # of paramters by varying # of neurons in the second to last layer in the rnn and cnn layers\n",
    "l_nb_neurons = [10, 50, 100, 150, 200, 250, 300]\n",
    "def get_rnn_models(l_nb_neurons):\n",
    "    models = []\n",
    "    for n_neurons in l_nb_neurons:\n",
    "        model_crnn = Sequential()\n",
    "        model_crnn.add(TimeDistributed(Convolution2D(1, 4, 4, border_mode='valid'), input_shape=(1,1,side,side)))\n",
    "        model_crnn.add(Activation('relu'))\n",
    "\n",
    "        model_crnn.add(TimeDistributed(Convolution2D(16, 3, 3, border_mode='valid')))\n",
    "        model_crnn.add(Activation('relu'))\n",
    "\n",
    "        model_crnn.add(TimeDistributed(Flatten()))\n",
    "        model_crnn.add(Activation('relu'))\n",
    "        model_crnn.add(LSTM(output_dim=n_neurons,return_sequences=False))\n",
    "        model_crnn.add(Activation('relu'))\n",
    "\n",
    "        model_crnn.add(Dense(10))\n",
    "        model_crnn.add(Activation('relu'))\n",
    "\n",
    "        model_crnn.add(Activation('softmax'))\n",
    "        model_crnn.compile(loss='categorical_crossentropy',\n",
    "                      optimizer='adadelta',\n",
    "                      metrics=['accuracy'])\n",
    "        models.append(model_crnn)\n",
    "    return models\n",
    "\n",
    "def get_cnn_models(l_nb_neurons):\n",
    "    models = []\n",
    "    for n_neurons in l_nb_neurons:\n",
    "        model_cnn = Sequential()\n",
    "        model_cnn.add(Convolution2D(1, 4, 4,\n",
    "                                border_mode='valid',\n",
    "                                input_shape=(1,side,side)))\n",
    "        model_cnn.add(Activation('relu'))\n",
    "\n",
    "        model_cnn.add(Convolution2D(16, 3,3))\n",
    "        model_cnn.add(Activation('relu'))\n",
    "\n",
    "        model_cnn.add(Flatten())\n",
    "\n",
    "        model_cnn.add(Dense(n_neurons))\n",
    "        model_cnn.add(Activation('relu'))\n",
    "\n",
    "\n",
    "        model_cnn.add(Dense(10))\n",
    "        model_cnn.add(Activation('relu'))\n",
    "\n",
    "        model_cnn.add(Activation('softmax'))\n",
    "\n",
    "        model_cnn.compile(loss='categorical_crossentropy',\n",
    "                      optimizer='adadelta',\n",
    "                      metrics=['accuracy'])\n",
    "        models.append(model_cnn)\n",
    "    return models\n",
    "\n",
    "# generate models \n",
    "models_rnn = get_rnn_models(l_nb_neurons)\n",
    "models_cnn = get_cnn_models(l_nb_neurons)\n",
    "l_params_rnn = []\n",
    "l_params_cnn = []\n",
    "for (n_neurons, model_rnn, model_cnn) in zip(l_nb_neurons, models_rnn, models_cnn):\n",
    "    nb_params_rnn = model_rnn.count_params()\n",
    "    nb_params_cnn = model_cnn.count_params()\n",
    "    print(n_neurons, nb_params_rnn, nb_params_cnn)\n",
    "    l_params_rnn.append(nb_params_rnn)\n",
    "    l_params_cnn.append(nb_params_cnn)   "
   ]
  },
  {
   "cell_type": "markdown",
   "metadata": {},
   "source": [
    "Below we first look at how the total number of parameters varies as the number of outputs in the second to last layer in the network varies. Each dot in the plot below is a model. The total number of parameters in the RNN increases much faster than the the number of parameters in the CNN which suggests that it is a good idea to consider having a smaller number of neurons in the LSTM layer compared to if a standard CNN were used.  "
   ]
  },
  {
   "cell_type": "code",
   "execution_count": 166,
   "metadata": {},
   "outputs": [
    {
     "data": {
      "image/png": "[encoded data removed]",
      "text/plain": [
       "<matplotlib.figure.Figure at 0x150967e10>"
      ]
     },
     "metadata": {},
     "output_type": "display_data"
    }
   ],
   "source": [
    "rnn_line, = plt.plot(l_nb_neurons, l_params_rnn, 'go', label = 'RNN')\n",
    "cnn_line, = plt.plot(l_nb_neurons, l_params_cnn, 'bo', label = 'CNN')\n",
    "\n",
    "plt.ylabel(r'Number of Parameters', size =16)\n",
    "plt.xlabel(r'Number of Outputs', size =16)\n",
    "plt.title(r'# Outputs vs Total # of Parameters', size =24, y=1.08)\n",
    "\n",
    "plt.legend(handles=[rnn_line, cnn_line],loc=2)\n",
    "plt.show()"
   ]
  },
  {
   "cell_type": "markdown",
   "metadata": {},
   "source": [
    "However, what we are really interested in is how the validation accuracy varies as the number of parameters in each type of model is increased. We hence evaluate each of the models above on the dataset and compute the testing accuracy."
   ]
  },
  {
   "cell_type": "markdown",
   "metadata": {},
   "source": [
    "We consider only a handful of models of each type to reduce the computation time:"
   ]
  },
  {
   "cell_type": "code",
   "execution_count": 168,
   "metadata": {},
   "outputs": [
    {
     "name": "stdout",
     "output_type": "stream",
     "text": [
      "Evaluating Model 1 out of 3\n",
      "Evaluating Model 2 out of 3\n",
      "Evaluating Model 3 out of 3\n"
     ]
    }
   ],
   "source": [
    "# l_nb_neurons = [10, 50, 100, 150, 200, 250, 300]\n",
    "\n",
    "# evaluate the models\n",
    "histories_cnn = []\n",
    "model_index_cnn = [2,3,4]\n",
    "for model_index in range(0,len(model_index_cnn)):\n",
    "    model_cnn = models_cnn[model_index_cnn[model_index]]\n",
    "    print('Evaluating Model %i out of %i' % (model_index+1, len(model_index_cnn)))\n",
    "    # train CNN model \n",
    "    history_cnn = model_cnn.fit(X_train_cnn, Y_train_categorical, batch_size=batch_size, nb_epoch=nb_epochs,\n",
    "              verbose=0, validation_data=(X_test_cnn, Y_test_categorical))\n",
    "    time.sleep(0.1)\n",
    "    histories_cnn.append(history_cnn)"
   ]
  },
  {
   "cell_type": "code",
   "execution_count": 169,
   "metadata": {},
   "outputs": [
    {
     "name": "stdout",
     "output_type": "stream",
     "text": [
      "Evaluating Model 1 out of 3\n",
      "Evaluating Model 2 out of 3\n",
      "Evaluating Model 3 out of 3\n"
     ]
    }
   ],
   "source": [
    "# evaluate the models\n",
    "histories_rnn = []\n",
    "model_index_rnn = [0,1,2]\n",
    "for model_index in range(0,len(model_index_rnn)):\n",
    "    model_rnn = models_rnn[model_index_rnn[model_index]]\n",
    "    print('Evaluating Model %i out of %i' % (model_index+1, len(model_index_cnn)))\n",
    "    # train RNN model \n",
    "    history_rnn = model_rnn.fit(X_train_rnn, Y_train_rnn, batch_size=batch_size, nb_epoch=nb_epochs,\n",
    "              verbose=0, validation_data=(X_train_rnn, Y_train_rnn))\n",
    "    time.sleep(0.1)\n",
    "    histories_rnn.append(history_rnn)"
   ]
  },
  {
   "cell_type": "markdown",
   "metadata": {},
   "source": [
    "Now we can visualize results by plotting the number of parameters vs validation accuracy in the CNN and CRNN networks."
   ]
  },
  {
   "cell_type": "code",
   "execution_count": 177,
   "metadata": {
    "collapsed": true
   },
   "outputs": [],
   "source": [
    "def get_parameter_and_validation_data(models, histories):\n",
    "    data = []\n",
    "    for index in range(0,len(histories)):\n",
    "        model = models[index];\n",
    "        history = histories[index];\n",
    "\n",
    "        val_acc      = history.history['val_acc'][-1]\n",
    "        training_acc = history.history['acc'][-1]\n",
    "\n",
    "        nb_params = model.count_params()\n",
    "        data.append((nb_params, val_acc,training_acc))\n",
    "    data = np.array(data)\n",
    "    return data # return validation accuracy (col 0) and number of parameters (col 1)\n",
    "\n",
    "cnn_data = get_parameter_and_validation_data(models_cnn, histories_cnn)    \n",
    "rcnn_data = get_parameter_and_validation_data(models_rnn, histories_rnn)\n"
   ]
  },
  {
   "cell_type": "markdown",
   "metadata": {},
   "source": [
    "Interestingly, the validation accuracies seem to be better than the training accuracies:"
   ]
  },
  {
   "cell_type": "markdown",
   "metadata": {},
   "source": [
    "#### CNN Accuracies"
   ]
  },
  {
   "cell_type": "code",
   "execution_count": 183,
   "metadata": {},
   "outputs": [
    {
     "name": "stdout",
     "output_type": "stream",
     "text": [
      "  Number of Parameters    Validation Accuracy    Training Accuracy\n",
      "----------------------  ---------------------  -------------------\n",
      "                 84937                 0.0966             0.1052\n",
      "                423937                 0.7917             0.646583\n",
      "                847687                 0.9743             0.935533\n"
     ]
    }
   ],
   "source": [
    "print(tabulate(cnn_data,headers=['Number of Parameters', 'Validation Accuracy', 'Training Accuracy']))"
   ]
  },
  {
   "cell_type": "markdown",
   "metadata": {},
   "source": [
    "#### RNN Accuracies"
   ]
  },
  {
   "cell_type": "code",
   "execution_count": 184,
   "metadata": {},
   "outputs": [
    {
     "name": "stdout",
     "output_type": "stream",
     "text": [
      "  Number of Parameters    Validation Accuracy    Training Accuracy\n",
      "----------------------  ---------------------  -------------------\n",
      "      339287                         0.832267             0.7546\n",
      "           1.70369e+06               0.9616               0.914817\n",
      "           3.42719e+06               0.863617             0.831667\n"
     ]
    }
   ],
   "source": [
    "print(tabulate(rcnn_data,headers=['Number of Parameters', 'Validation Accuracy', 'Training Accuracy']))"
   ]
  },
  {
   "cell_type": "markdown",
   "metadata": {},
   "source": [
    "We can also plot the above data. The plot below shows the testing accuracy as the number of parameters in each of the CNN and RNN models varies. "
   ]
  },
  {
   "cell_type": "code",
   "execution_count": 185,
   "metadata": {},
   "outputs": [
    {
     "data": {
      "image/png": "[encoded data removed]",
      "text/plain": [
       "<matplotlib.figure.Figure at 0x118fb0710>"
      ]
     },
     "metadata": {},
     "output_type": "display_data"
    }
   ],
   "source": [
    "# plot results testing accuracy\n",
    "rnn_line, = plt.plot(cnn_data[:,0], cnn_data[:,1], 'go', label = 'RNN')\n",
    "cnn_line, = plt.plot(rcnn_data[:,0], rcnn_data[:,1], 'bo', label = 'CNN')\n",
    "\n",
    "plt.xlabel(r'Number of Parameters', size =16)\n",
    "plt.ylabel(r'Testing Accuracy', size =16)\n",
    "plt.title(r'# Testing Accuracy vs Total # of Parameters', size =24, y=1.08)\n",
    "plt.xticks(rotation = 45)\n",
    "\n",
    "plt.legend(handles=[rnn_line, cnn_line],loc=2)\n",
    "plt.show()"
   ]
  },
  {
   "cell_type": "markdown",
   "metadata": {
    "collapsed": true
   },
   "source": [
    "While a more thorough experiment is needed to find the relationship between number of parameters and the quality of prediction, the above experiment suggests that the recurrent CNN network may outperform the standard CNN network in some cases.  "
   ]
  },
  {
   "cell_type": "code",
   "execution_count": 186,
   "metadata": {},
   "outputs": [
    {
     "name": "stdout",
     "output_type": "stream",
     "text": [
      "339287.00  0.83  0.75\n",
      "1703687.00  0.96  0.91\n",
      "3427187.00  0.86  0.83\n"
     ]
    }
   ],
   "source": [
    "np.savetxt(sys.stdout, rcnn_data, '%5.2f')"
   ]
  },
  {
   "cell_type": "code",
   "execution_count": 187,
   "metadata": {},
   "outputs": [
    {
     "name": "stdout",
     "output_type": "stream",
     "text": [
      "84937.00  0.10  0.11\n",
      "423937.00  0.79  0.65\n",
      "847687.00  0.97  0.94\n"
     ]
    }
   ],
   "source": [
    "np.savetxt(sys.stdout, cnn_data, '%5.2f')"
   ]
  },
  {
   "cell_type": "code",
   "execution_count": 188,
   "metadata": {
    "collapsed": true
   },
   "outputs": [],
   "source": [
    "# References\n",
    "# https://github.com/jamesmf/mnistCRNN/blob/master/scripts/addMNISTrnn.py\n",
    "# https://github.com/fchollet/keras/blob/master/examples/mnist_cnn.py    "
   ]
  }
 ],
 "metadata": {
  "kernelspec": {
   "display_name": "Python 2",
   "language": "python",
   "name": "python2"
  },
  "language_info": {
   "codemirror_mode": {
    "name": "ipython",
    "version": 2
   },
   "file_extension": ".py",
   "mimetype": "text/x-python",
   "name": "python",
   "nbconvert_exporter": "python",
   "pygments_lexer": "ipython2",
   "version": "2.7.13"
  }
 },
 "nbformat": 4,
 "nbformat_minor": 1
}
